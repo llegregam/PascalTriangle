{
 "cells": [
  {
   "cell_type": "code",
   "execution_count": null,
   "id": "sunset-hayes",
   "metadata": {
    "scrolled": false
   },
   "outputs": [],
   "source": [
    "from notebook import TpN\n",
    "nb = TpN(True)\n",
    "try:\n",
    "    nb.reset(True)\n",
    "except NameError:\n",
    "    nb = TpN(True)\n",
    "    \n",
    "nb.load_events()\n",
    "nb.initialize_widgets()\n",
    "display(nb.metselect_out,\n",
    "        nb.out,\n",
    "        nb.plot_out)\n"
   ]
  }
 ],
 "metadata": {
  "kernelspec": {
   "display_name": "Python 3",
   "language": "python",
   "name": "python3"
  },
  "language_info": {
   "codemirror_mode": {
    "name": "ipython",
    "version": 3
   },
   "file_extension": ".py",
   "mimetype": "text/x-python",
   "name": "python",
   "nbconvert_exporter": "python",
   "pygments_lexer": "ipython3",
   "version": "3.8.8"
  }
 },
 "nbformat": 4,
 "nbformat_minor": 5
}
